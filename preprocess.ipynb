{
 "cells": [
  {
   "cell_type": "code",
   "execution_count": 3,
   "id": "2b037cb0",
   "metadata": {
    "ExecuteTime": {
     "end_time": "2022-09-29T15:35:38.030177Z",
     "start_time": "2022-09-29T15:35:38.015177Z"
    }
   },
   "outputs": [
    {
     "data": {
      "text/plain": [
       "'cuda'"
      ]
     },
     "execution_count": 3,
     "metadata": {},
     "output_type": "execute_result"
    }
   ],
   "source": [
    "import os\n",
    "import glob\n",
    "\n",
    "import cv2\n",
    "import json\n",
    "import fiona\n",
    "from PIL import Image\n",
    "\n",
    "import numpy as np\n",
    "import pandas as pd\n",
    "import matplotlib.pyplot as plt\n",
    "import seaborn as sns\n",
    "from sklearn.model_selection import train_test_split\n",
    "\n",
    "import time\n",
    "from tqdm.notebook import tqdm\n",
    "from collections import defaultdict\n",
    "from IPython.display import clear_output\n",
    "\n",
    "import torch\n",
    "import torch.nn as nn\n",
    "import torch.optim as optim\n",
    "from torch.utils.data import Dataset\n",
    "\n",
    "from torchvision import transforms\n",
    "from torchvision import datasets, models, transforms, models\n",
    "\n",
    "sns.set(font_scale=1.3)\n",
    "device = 'cuda' if torch.cuda.is_available() else 'cpu'\n",
    "device"
   ]
  },
  {
   "cell_type": "code",
   "execution_count": 4,
   "id": "bdae4097",
   "metadata": {
    "ExecuteTime": {
     "end_time": "2022-09-29T15:35:38.045176Z",
     "start_time": "2022-09-29T15:35:38.031177Z"
    }
   },
   "outputs": [],
   "source": [
    "train_image_paths = glob.glob('./data_transformed/train/image_*.png')\n",
    "\n",
    "paths = ['./data_512x512/train/', './data_512x512/test/']\n",
    "for path in paths:\n",
    "    os.makedirs(path, exist_ok=True)\n",
    "    \n",
    "paths = ['./data_256x256/train/', './data_256x256/test/']\n",
    "for path in paths:\n",
    "    os.makedirs(path, exist_ok=True)\n",
    "    \n",
    "paths = ['./data_transformed/train/', './data_transformed/test/']\n",
    "for path in paths:\n",
    "    os.makedirs(path, exist_ok=True)"
   ]
  },
  {
   "cell_type": "code",
   "execution_count": 5,
   "id": "c8833bfa",
   "metadata": {
    "ExecuteTime": {
     "end_time": "2022-09-29T15:35:38.060180Z",
     "start_time": "2022-09-29T15:35:38.046177Z"
    }
   },
   "outputs": [],
   "source": [
    "# size = (512, 512)\n",
    "# for train_image_path in tqdm(train_image_paths):\n",
    "#     mask_path = train_image_path.replace('image', 'mask')\n",
    "\n",
    "#     image = plt.imread(train_image_path) * 255\n",
    "#     mask = plt.imread(mask_path) * 255\n",
    "\n",
    "#     image = cv2.resize(image, size).astype(np.uint8)\n",
    "#     mask = cv2.resize(mask, size).astype(np.uint8)\n",
    "\n",
    "#     image = Image.fromarray(image)\n",
    "#     image.save(train_image_path.replace('data_transformed', 'data_512x512'))\n",
    "\n",
    "#     mask = Image.fromarray(mask)\n",
    "#     mask.save(mask_path.replace('data_transformed', 'data_512x512'))"
   ]
  },
  {
   "cell_type": "code",
   "execution_count": 6,
   "id": "cd8cb669",
   "metadata": {
    "ExecuteTime": {
     "end_time": "2022-09-29T15:35:38.076184Z",
     "start_time": "2022-09-29T15:35:38.061177Z"
    }
   },
   "outputs": [],
   "source": [
    "# for train_image_path in tqdm(glob.glob('./data_256x256/train/image_*.png')):\n",
    "#     mask_path = train_image_path.replace('image', 'mask')\n",
    "    \n",
    "#     image = plt.imread(train_image_path)\n",
    "#     mask = plt.imread(mask_path)\n",
    "#     print(image.shape)\n",
    "#     break"
   ]
  },
  {
   "cell_type": "code",
   "execution_count": 7,
   "id": "fd2a9a6f",
   "metadata": {
    "ExecuteTime": {
     "end_time": "2022-09-29T15:35:38.092177Z",
     "start_time": "2022-09-29T15:35:38.077178Z"
    }
   },
   "outputs": [],
   "source": [
    "from scipy.ndimage import distance_transform_edt as distance\n",
    "\n",
    "\n",
    "def calc_dist_map(seg):\n",
    "    res = np.zeros_like(seg)\n",
    "    posmask = seg.astype(bool)\n",
    "\n",
    "    if posmask.any():\n",
    "        negmask = ~posmask\n",
    "        res = distance(negmask) * negmask - (distance(posmask) - 1) * posmask\n",
    "\n",
    "    return res"
   ]
  },
  {
   "cell_type": "code",
   "execution_count": 8,
   "id": "eed81770",
   "metadata": {
    "ExecuteTime": {
     "end_time": "2022-09-29T15:35:38.108189Z",
     "start_time": "2022-09-29T15:35:38.093179Z"
    }
   },
   "outputs": [],
   "source": [
    "# distances = []\n",
    "# for path in tqdm(glob.glob('./data_transformed/train/mask_*.png')):\n",
    "#     mask = cv2.imread(path, cv2.IMREAD_UNCHANGED)\n",
    "#     H, W = mask.shape\n",
    "#     mask = np.concatenate((mask, np.zeros((16, W))), axis=0)\n",
    "#     mask = np.concatenate((mask, np.zeros((H + 16, 8))), axis=1).astype(np.float32)\n",
    "#     distances.append(calc_dist_map(mask))\n",
    "    \n",
    "# distances = np.array(distances).astype(np.float32)"
   ]
  },
  {
   "cell_type": "code",
   "execution_count": 12,
   "id": "f9ccc8fc",
   "metadata": {
    "ExecuteTime": {
     "end_time": "2022-09-29T15:37:02.434038Z",
     "start_time": "2022-09-29T15:37:02.418060Z"
    }
   },
   "outputs": [],
   "source": [
    "# np.save('distances.npy', distances)"
   ]
  },
  {
   "cell_type": "code",
   "execution_count": 13,
   "id": "bcd69ef6",
   "metadata": {
    "ExecuteTime": {
     "end_time": "2022-09-29T15:37:02.684250Z",
     "start_time": "2022-09-29T15:37:02.674249Z"
    }
   },
   "outputs": [],
   "source": [
    "# images = []\n",
    "# for path in tqdm(glob.glob('./data_transformed/train/image_*.png')):\n",
    "#     image = cv2.imread(path, cv2.IMREAD_UNCHANGED)\n",
    "#     image = cv2.cvtColor(image, cv2.COLOR_BGR2RGB)\n",
    "#     H, W, C = image.shape\n",
    "#     image = np.concatenate((image, np.zeros((16, W, C))), axis=0)\n",
    "#     image = np.concatenate((image, np.zeros((H + 16, 8, C))), axis=1).astype(np.uint8)\n",
    "#     images.append(image)\n",
    "    \n",
    "# images = np.array(images).astype(np.uint8)"
   ]
  },
  {
   "cell_type": "code",
   "execution_count": 14,
   "id": "00ca9866",
   "metadata": {
    "ExecuteTime": {
     "end_time": "2022-09-29T15:37:03.122194Z",
     "start_time": "2022-09-29T15:37:03.115194Z"
    }
   },
   "outputs": [],
   "source": [
    "# np.save('images.npy', images)"
   ]
  },
  {
   "cell_type": "code",
   "execution_count": 8,
   "id": "25bae296",
   "metadata": {
    "ExecuteTime": {
     "end_time": "2022-09-28T13:40:12.044469Z",
     "start_time": "2022-09-28T13:40:12.026470Z"
    }
   },
   "outputs": [],
   "source": [
    "class EyeDataset(Dataset):\n",
    "    def __init__(self, data_folder):\n",
    "        self.image_files = glob.glob(f'{data_folder}/*.png')\n",
    "        self.to_tensor = transforms.ToTensor()\n",
    "        \n",
    "    def read_image(self, path):\n",
    "        image = cv2.imread(str(path), cv2.IMREAD_COLOR)\n",
    "        image = cv2.cvtColor(image, cv2.COLOR_BGR2RGB)\n",
    "        image = np.array(image / 255, dtype=np.float32)\n",
    "        return image\n",
    "        \n",
    "    def parse_polygon(self, coordinates, image_size): \n",
    "        mask = np.zeros(image_size, dtype=np.float32) \n",
    "\n",
    "        if len(coordinates) == 1: \n",
    "            points = [np.int32(coordinates)] \n",
    "            cv2.fillPoly(mask, points, 1) \n",
    "        else: \n",
    "            points = [np.int32([coordinates[0]])] \n",
    "            cv2.fillPoly(mask, points, 1) \n",
    "            for polygon in coordinates[1:]: \n",
    "                points = [np.int32([polygon])] \n",
    "                cv2.fillPoly(mask, points, 0) \n",
    "\n",
    "        return mask\n",
    "\n",
    "    def parse_mask(self, shape, image_size):\n",
    "        mask = np.zeros(image_size, dtype=np.float32)\n",
    "        coordinates = shape['coordinates']\n",
    "        if shape['type'] == 'MultiPolygon':\n",
    "            for polygon in coordinates:\n",
    "                mask = np.maximum(self.parse_polygon(polygon, image_size), mask) \n",
    "        else:\n",
    "            mask = np.maximum(self.parse_polygon(coordinates, image_size), mask) \n",
    "\n",
    "        return mask\n",
    "    \n",
    "    def read_layout(self, path, image_size):\n",
    "        with open(path, 'r', encoding='cp1251') as f:\n",
    "            json_contents = json.load(f)\n",
    "\n",
    "        mask = np.zeros(image_size, dtype=np.float32)\n",
    "\n",
    "        if type(json_contents) == dict and json_contents['type'] == 'FeatureCollection':\n",
    "            features = json_contents['features']\n",
    "        elif type(json_contents) == list:\n",
    "            features = json_contents\n",
    "        else:\n",
    "            features = [json_contents]\n",
    "\n",
    "        for shape in features:\n",
    "            mask = np.maximum(self.parse_mask(shape['geometry'], image_size), mask)\n",
    "            \n",
    "        return mask\n",
    "        \n",
    "    def __len__(self):\n",
    "        return len(self.image_files)\n",
    "    \n",
    "    def __getitem__(self, idx):\n",
    "        image_path = self.image_files[idx]\n",
    "        image = self.read_image(image_path)\n",
    "        \n",
    "        json_path = image_path.replace('png', 'geojson')\n",
    "        mask = self.read_layout(json_path, image.shape[:2])\n",
    "        \n",
    "        image, mask = self.to_tensor(image), torch.tensor(mask)\n",
    "        return image, mask"
   ]
  },
  {
   "cell_type": "code",
   "execution_count": 10,
   "id": "ad5aec36",
   "metadata": {
    "ExecuteTime": {
     "end_time": "2022-09-28T13:40:28.197064Z",
     "start_time": "2022-09-28T13:40:28.183044Z"
    }
   },
   "outputs": [],
   "source": [
    "# for i, (image, mask) in tqdm(enumerate(EyeDataset('./data/test')), total=len(train_image_paths)):\n",
    "#     image, mask = (image.permute(1, 2, 0) * 255).numpy().astype(np.uint8), mask.numpy().astype(np.uint8)\n",
    "    \n",
    "#     image = Image.fromarray(image)\n",
    "#     image.save(f'./data_transformed/test/image_{i + 1}.png')\n",
    "    \n",
    "#     mask = Image.fromarray(mask)\n",
    "#     mask.save(f'./data_transformed/train/mask_{i + 1}.png')"
   ]
  }
 ],
 "metadata": {
  "kernelspec": {
   "display_name": "Python 3 (ipykernel)",
   "language": "python",
   "name": "python3"
  },
  "language_info": {
   "codemirror_mode": {
    "name": "ipython",
    "version": 3
   },
   "file_extension": ".py",
   "mimetype": "text/x-python",
   "name": "python",
   "nbconvert_exporter": "python",
   "pygments_lexer": "ipython3",
   "version": "3.8.9"
  }
 },
 "nbformat": 4,
 "nbformat_minor": 5
}
